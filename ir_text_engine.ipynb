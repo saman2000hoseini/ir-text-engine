{
  "cells": [
    {
      "cell_type": "code",
      "execution_count": null,
      "metadata": {
        "id": "cSE2_D1q0KxX"
      },
      "outputs": [],
      "source": [
        "%pip install hazm"
      ]
    },
    {
      "cell_type": "code",
      "execution_count": 3,
      "metadata": {
        "id": "F0ANCuw8qeUT"
      },
      "outputs": [],
      "source": [
        "from __future__ import unicode_literals\n",
        "from hazm import *\n",
        "from tqdm import tqdm\n",
        "import json\n",
        "with open(\"./IR_data_news_12k.json\", \"r\") as read_file:\n",
        "    data = json.load(read_file)"
      ]
    },
    {
      "cell_type": "code",
      "execution_count": 45,
      "metadata": {
        "id": "_WUCYKG5Jf-K"
      },
      "outputs": [],
      "source": [
        "def print_result(docs):\n",
        "  for doc in docs:\n",
        "    print(data[doc]['title'], data[doc]['url'], '----------------------------')"
      ]
    },
    {
      "cell_type": "code",
      "execution_count": 4,
      "metadata": {
        "colab": {
          "base_uri": "https://localhost:8080/"
        },
        "id": "lNJ6ApHYroDG",
        "outputId": "b1c6331a-2761-4e98-b6c7-b9739453e9c2"
      },
      "outputs": [
        {
          "name": "stderr",
          "output_type": "stream",
          "text": [
            "100%|██████████| 12202/12202 [01:02<00:00, 195.91it/s]\n"
          ]
        }
      ],
      "source": [
        "normalizer = Normalizer()\n",
        "lemmatizer = Lemmatizer()\n",
        "\n",
        "\n",
        "def preprocess(text):\n",
        "    text = normalizer.normalize(text)\n",
        "    # print(text)\n",
        "    words = word_tokenize(text)\n",
        "    # print(words)\n",
        "    stop_words = stopwords_list()\n",
        "    words[:] = [x for x in words if not (x in stop_words)]\n",
        "\n",
        "    for i in range(len(words)):\n",
        "        words[i] = lemmatizer.lemmatize(words[i])\n",
        "\n",
        "    return words\n",
        "\n",
        "\n",
        "for doc, value in tqdm(data.items()):\n",
        "    data[doc]['title'] = preprocess(data[doc]['title'])\n",
        "    data[doc]['content'] = preprocess(data[doc]['content'])"
      ]
    },
    {
      "cell_type": "code",
      "execution_count": 5,
      "metadata": {
        "colab": {
          "base_uri": "https://localhost:8080/"
        },
        "id": "TO2CZYQnrplE",
        "outputId": "7fed7e56-af1c-4e18-d62b-caf3abfb3726"
      },
      "outputs": [
        {
          "name": "stdout",
          "output_type": "stream",
          "text": [
            "{'title': ['اعلام', 'زمان', 'قرعه', 'کشید#کش', 'جام', 'باشگاه', 'فوتسال', 'آسیا'], 'content': ['گزارش', 'خبرگزاری', 'فارس', '،', 'کنفدراسیون', 'فوتبال', 'آسیا', '(', 'AFC', ')', 'نامه', 'رسم', 'فدراسیون', 'فوتبال', 'ایران', 'باشگاه', 'گیتی', 'پسند', 'زمان', 'قرعه', 'کشید#کش', 'جام', 'باشگاه', 'فوتسال', 'آسیا', 'رسما', 'اعلام', '.', 'اساس', '۲۵', 'فروردین', 'ماه', '۱۴۰۱', 'مراسم', 'قرعه', 'کشید#کش', 'جام', 'باشگاه', 'فوتسال', 'آسیا', 'مالزی', 'برگزار', '.', 'باشگاه', 'گیتی', 'پسند', 'بعنوان', 'قهرمان', 'فوتسال', 'ایران', 'سال', '۱۴۰۰', 'مسابقات', '.', 'گیتی', 'پسند', 'تجربه', '۳', 'دوره', 'حضور', 'جام', 'باشگاه', 'فوتسال', 'آسیا', 'دوره', 'فینال', 'مسابقات', 'عنوان', 'قهرمان', 'مقام', 'دوم', 'بدست', 'آورد#آور', '.', 'انتهای', 'پیام/'], 'tags': ['اعلام زمان', 'قرعه\\u200cکشی', 'قرعه\\u200cکشی جام', 'قرعه\\u200cکشی جام باشگاه\\u200cهای فوتسال', 'ای اف سی', 'گیتی پسند'], 'date': '3/15/2022 5:59:27 PM', 'url': 'https://www.farsnews.ir/news/14001224001005/اعلام-زمان-قرعه-کشی-جام-باشگاه-های-فوتسال-آسیا', 'category': 'sports'}\n"
          ]
        }
      ],
      "source": [
        "print(data[\"0\"])"
      ]
    },
    {
      "cell_type": "code",
      "execution_count": 6,
      "metadata": {
        "id": "LG3dVDe1rrQe"
      },
      "outputs": [],
      "source": [
        "title_pos_index = {}\n",
        "content_pos_index = {}\n",
        "\n",
        "for doc in data:\n",
        "    for pos, term in enumerate(data[doc][\"title\"]):\n",
        "        if term in title_pos_index:\n",
        "            title_pos_index[term][0] = title_pos_index[term][0] + 1\n",
        "\n",
        "            if doc in title_pos_index[term][1]:\n",
        "                title_pos_index[term][1][doc].append(pos)\n",
        "                    \n",
        "            else:\n",
        "                title_pos_index[term][1][doc] = [pos]\n",
        "        else:\n",
        "            title_pos_index[term] = []\n",
        "            title_pos_index[term].append(1)\n",
        "            title_pos_index[term].append({})     \n",
        "            title_pos_index[term][1][doc] = [pos]\n",
        "        \n",
        "    for pos, term in enumerate(data[doc][\"content\"]):\n",
        "        if term in content_pos_index:\n",
        "            content_pos_index[term][0] = content_pos_index[term][0] + 1\n",
        "\n",
        "            if doc in content_pos_index[term][1]:\n",
        "                content_pos_index[term][1][doc].append(pos)\n",
        "                    \n",
        "            else:\n",
        "                content_pos_index[term][1][doc] = [pos]\n",
        "        else:\n",
        "            content_pos_index[term] = []\n",
        "            content_pos_index[term].append(1)\n",
        "            content_pos_index[term].append({})     \n",
        "            content_pos_index[term][1][doc] = [pos]"
      ]
    },
    {
      "cell_type": "code",
      "execution_count": 7,
      "metadata": {
        "colab": {
          "base_uri": "https://localhost:8080/"
        },
        "id": "92RRaHWortcz",
        "outputId": "a37b2066-d22f-45b2-af63-2939c787e34c"
      },
      "outputs": [
        {
          "name": "stdout",
          "output_type": "stream",
          "text": [
            "[2, {'3413': [4], '6967': [1]}]\n",
            "[364, {'314': [82], '860': [183], '964': [300], '1102': [90], '1221': [80], '1312': [82], '1322': [708], '1382': [61, 70, 74, 79], '1585': [53], '1858': [19], '1903': [115], '1961': [20], '1963': [22], '2046': [45], '2276': [260], '2313': [36], '2563': [281], '2617': [25], '3422': [146], '3509': [34, 40], '3537': [157], '3662': [294], '4005': [60, 63], '4033': [100], '4120': [38], '4152': [157], '4169': [105], '4244': [65], '4455': [98], '4592': [34], '4607': [61], '4873': [272], '5068': [42], '5116': [18], '5544': [168], '5800': [76], '6675': [94], '6847': [727], '6895': [72], '6915': [1956, 2193], '6967': [13, 44], '6988': [38], '7016': [164], '7018': [136], '7087': [32], '7143': [42], '7181': [44], '7219': [55], '7231': [38], '7234': [48], '7241': [24], '7253': [107], '7259': [505, 510], '7260': [233, 236], '7272': [286], '7331': [132], '7334': [53], '7423': [125], '7517': [60], '7541': [32], '7554': [186], '7575': [55], '7579': [112], '7694': [48], '7739': [1694, 1769], '7758': [217], '7829': [463], '7858': [8, 165], '7867': [44], '7895': [139], '7919': [224], '7993': [675], '8023': [61], '8027': [173, 179, 1768], '8056': [46], '8067': [69], '8094': [262], '8096': [69], '8128': [349], '8146': [643, 1087, 2157], '8168': [112], '8180': [96], '8199': [64], '8203': [207], '8255': [112], '8276': [172, 181, 2220], '8289': [25, 38], '8311': [59, 375], '8319': [256], '8321': [132], '8411': [34], '8445': [120], '8447': [89], '8469': [23], '8483': [26, 43, 79, 111, 167, 228, 276], '8487': [28], '8577': [462], '8609': [263], '8703': [25, 65, 92, 199], '8705': [61], '8710': [27], '8739': [50, 55], '8780': [81], '8791': [30, 102], '8855': [354], '8876': [329], '8919': [77], '8972': [50], '8973': [1949, 2012, 2090, 2158, 2222, 2302, 2380, 2437, 2622, 2693, 2741, 2805, 2899, 2961, 3024, 3101, 3188, 3281, 3349, 3409, 3491, 3591, 3656, 3808, 3901, 3970, 4034, 4096, 4164], '8974': [58, 68, 94], '8988': [164], '8989': [209, 216], '9002': [29], '9004': [12], '9006': [68], '9011': [406, 419], '9017': [60, 130], '9018': [21, 38, 65, 103, 172, 435, 466, 532, 552, 606, 663, 698, 733, 772, 787, 1107, 1164, 1199, 1331, 1437, 1556, 1584, 1635, 1704, 1799, 1836, 1873, 1913, 2076, 2159, 2208, 2252, 2275, 2289, 2327, 2382, 2516, 2616, 2637, 2818, 2859, 2922], '9024': [13], '9051': [33, 41, 47], '9053': [254], '9071': [211], '9101': [6], '9117': [63], '9157': [398, 744], '9179': [41], '9181': [47], '9238': [14], '9239': [594, 734, 746], '9241': [47, 111, 116], '9413': [58, 79], '9423': [63], '9506': [136], '9532': [100], '9546': [17, 295], '9556': [30, 60], '9568': [48], '9671': [47, 4569], '9694': [106], '9701': [24, 41, 94, 107, 116, 199, 251, 284], '9714': [17], '9735': [68], '9741': [108], '9750': [77], '9764': [197], '9845': [74], '9879': [38], '9916': [65], '9971': [24], '9973': [668], '9981': [57], '9985': [126], '9986': [13, 129, 179], '10002': [30], '10111': [49], '10153': [30], '10154': [35, 209], '10239': [44], '10260': [50], '10315': [162], '10390': [57], '10392': [247], '10413': [40], '10448': [88], '10498': [62], '10521': [35], '10524': [15], '10532': [44], '10534': [53], '10661': [72, 77], '10686': [317], '10712': [71], '10723': [131, 241], '10745': [172, 825, 1608, 1616, 1618, 2185, 3637, 3651], '10746': [115], '10818': [59, 150, 246, 305], '10824': [1808, 1880, 1947, 2016, 2105, 2206, 2296, 2380, 2468, 2529, 2605, 2701, 2781, 2901, 2957, 3038], '10919': [60], '10920': [67], '10948': [23], '10966': [46], '11003': [62], '11064': [42], '11142': [63], '11228': [51], '11330': [18], '11372': [59], '11406': [30], '11424': [108], '11456': [43], '11462': [348], '11482': [35], '11512': [39], '11529': [53], '11628': [861], '11694': [47], '11739': [83], '11741': [42], '11785': [93], '11953': [993], '11964': [62], '11989': [53], '11999': [56], '12005': [20], '12037': [173], '12051': [61], '12111': [31], '12121': [22], '12124': [140], '12149': [49], '12167': [56], '12170': [38]}]\n"
          ]
        }
      ],
      "source": [
        "print(title_pos_index[\"سلام\"])\n",
        "print(content_pos_index[\"سلام\"])"
      ]
    },
    {
      "cell_type": "code",
      "execution_count": 8,
      "metadata": {
        "id": "1yOtPWwu4NtZ"
      },
      "outputs": [],
      "source": [
        "def boolean_include_query(term):\n",
        "  candidates = content_pos_index[term][1]\n",
        "  return [c[0] for c in sorted(candidates.items(), key=lambda x: len(x[1]), reverse=True)]\n",
        "\n",
        "def boolean_exclude_query(term, candidates):\n",
        "  exclude = boolean_include_query(term)\n",
        "  return [x for x in candidates if not (x in exclude)]\n",
        "\n",
        "def candidates_intersection(candidates):\n",
        "  res = candidates[0]\n",
        "  for i in range(1, len(candidates)):\n",
        "    res = [value for value in res if value in candidates[i]]\n",
        "  return res\n",
        "    \n",
        "def boolean_query(query):\n",
        "  query_words = preprocess(query)\n",
        "\n",
        "  to_exclude = []\n",
        "  candidates = []\n",
        "\n",
        "  for index in range(len(query_words)):\n",
        "    if query_words[index] == \"!\":\n",
        "      index = index + 1\n",
        "      to_exclude.append(query_words[index])\n",
        "    elif index == 0 or query_words[index-1] != \"!\":\n",
        "      candidates.append(boolean_include_query(query_words[index]))\n",
        "\n",
        "  candidates = candidates_intersection(candidates)\n",
        "  for word in to_exclude:\n",
        "    candidates = boolean_exclude_query(word, candidates)\n",
        "  \n",
        "  return candidates\n",
        "  "
      ]
    },
    {
      "cell_type": "code",
      "execution_count": 24,
      "metadata": {
        "id": "LU2DKYXC4UdV"
      },
      "outputs": [],
      "source": [
        "def positional_intersect(p1, p2, candidates):\n",
        "  pip1 = content_pos_index[p1][1]\n",
        "  pip2 = content_pos_index[p2][1]\n",
        "  res = []\n",
        "  for doc1, indexes1 in pip1.items():\n",
        "    for doc2, indexes2 in pip2.items():\n",
        "      if int(doc2) > int(doc1):\n",
        "        break\n",
        "      elif doc1 == doc2 and doc1 in candidates:\n",
        "        for term1_index in indexes1:\n",
        "          for term2_index in indexes2:\n",
        "            if term1_index == term2_index-1:\n",
        "              if not(doc1 in res):\n",
        "                res.append(doc1)\n",
        "            elif term1_index > term2_index:\n",
        "              continue\n",
        "            else:\n",
        "              break\n",
        "  return res\n",
        "\n",
        "def phrase_query(query):\n",
        "  query_words = preprocess(query)\n",
        "\n",
        "  candidates = [c for c in content_pos_index[query_words[0]][1]]\n",
        "\n",
        "  for i in range(1, len(query_words)):\n",
        "    candidates = positional_intersect(query_words[i-1], query_words[i], candidates)\n",
        "\n",
        "  return candidates\n"
      ]
    },
    {
      "cell_type": "code",
      "execution_count": 29,
      "metadata": {
        "colab": {
          "base_uri": "https://localhost:8080/"
        },
        "id": "4rtQmSfLFNKU",
        "outputId": "cc294543-5e80-45d4-f985-183a705f154e"
      },
      "outputs": [
        {
          "name": "stdout",
          "output_type": "stream",
          "text": [
            "boolean query:\n",
            "https://www.farsnews.ir/news/14001222000450/توضیحات-یک-منبع-آگاه-درباره-وقفه-مذاکرات-وین\n",
            "https://www.farsnews.ir/news/14000908000357/هتل-کوبورگ-زیر-ذره‌بین-بهارستان-تاکید-وکلای-ملت-بر-انتفاع-اقتصادی\n",
            "https://www.farsnews.ir/news/14000819000731/مذاکره‌کنندگان-مراقب-زنجیره-تحریم‌ها-باشند-حداقل-4-تا-6-ماه-برای\n",
            "https://www.farsnews.ir/news/14000821000097/راهبرد-مذاکره-هسته‌ای-نداریم-چگونه-تأمین-کننده-منافع-کشور-خواهد-بود-\n",
            "https://www.farsnews.ir/news/14000803000676/اهرم‌سازی-از-افغانستان-در-برجام-نقطه-عزیمت-آمریکا-در-مذاکرات-جامع-با\n",
            "\n",
            "phrase query:\n",
            "https://www.farsnews.ir/news/14001222000450/توضیحات-یک-منبع-آگاه-درباره-وقفه-مذاکرات-وین\n",
            "https://www.farsnews.ir/news/14001024000193/نباید-مانند-دولت-گذشته-در-مذاکرات-افراط-کرد-توافق-موقت-راهبرد-اصلی\n"
          ]
        }
      ],
      "source": [
        "query = \"تحریم‌های آمریکا علیه ایران\"\n",
        "\n",
        "print('boolean query:')\n",
        "for doc in boolean_query(query)[:5]:\n",
        "  print(data[doc]['url'])\n",
        "print()\n",
        "print('phrase query:')\n",
        "for doc in phrase_query(query):\n",
        "  print(data[doc]['url'])"
      ]
    },
    {
      "cell_type": "code",
      "execution_count": 39,
      "metadata": {
        "id": "eiU4EyliEPoB"
      },
      "outputs": [],
      "source": [
        "import re\n",
        "\n",
        "def process_query(query):\n",
        "  phrase_queries = re.findall('\"([^\"]*)\"', query)\n",
        "  bool_query = re.sub('\"([^\"]*)\"', '', query)\n",
        "\n",
        "\n",
        "  candidates = []\n",
        "  if len(bool_query) != 0:\n",
        "    candidates = [boolean_query(bool_query)]\n",
        "\n",
        "  if len(phrase_queries) == 0:\n",
        "    return candidates[0]\n",
        "\n",
        "  for phrase in phrase_queries:\n",
        "    candidates.append(phrase_query(phrase))\n",
        "\n",
        "  return candidates_intersection(candidates)"
      ]
    },
    {
      "cell_type": "code",
      "execution_count": 46,
      "metadata": {
        "colab": {
          "base_uri": "https://localhost:8080/"
        },
        "id": "mdeVO1gbGjiS",
        "outputId": "9b4f981a-dcf1-49eb-e2e4-ae326fc5cdc5"
      },
      "outputs": [
        {
          "name": "stdout",
          "output_type": "stream",
          "text": [
            "[['6929', '7330', '9207', '9360', '9694']]\n",
            "['توضیحات', 'منبع', 'آگاه', 'وقفه', 'مذاکرات', 'وین'] https://www.farsnews.ir/news/14001222000450/توضیحات-یک-منبع-آگاه-درباره-وقفه-مذاکرات-وین ----------------------------\n",
            "['بیانیه', 'اتحادیه', 'دانشجو', 'مستقل|', '۴', 'مطالبه', 'مذاکره', 'هسته\\u200cای'] https://www.farsnews.ir/news/14001209001193/بیانیه-اتحادیه-دانشجویان-مستقل|-۴-مطالبه-از-مذاکره-کنندگان-هسته‌ای ----------------------------\n",
            "['احیا', 'برجا', 'به\\u200cتنهایی', 'گره', 'مشکلات', 'کشور', 'برطرف', 'کرد#کن'] https://www.farsnews.ir/news/14001011000132/احیای-برجام-به‌تنهایی-هیچ-گرهی-از-مشکلات-کشور-را-برطرف-نمی‌کند ----------------------------\n",
            "['۹', 'دی', 'روز', 'فراموش', 'نشدن', 'تاریخ', 'انقلاب', 'اسلام'] https://www.farsnews.ir/news/14001007000363/۹-دی-یکی-از-روزهای-فراموش-نشدنی-در-تاریخ-انقلاب-اسلامی-است ----------------------------\n",
            "['آمریکا', '«', 'راستی\\u200cآزمایی', '»', 'لغو', 'تحریم', 'مشکل', 'دارد/', 'اطلاع', 'روحانی', 'ماجرا', 'افزایش', 'قیمت', 'بنزین'] https://www.farsnews.ir/news/14000926000407/آمریکا-با-راستی‌آزمایی-لغو-تحریم‌ها-مشکل-دارد-اطلاع-روحانی-از-ماجرای ----------------------------\n"
          ]
        }
      ],
      "source": [
        "# process_query('\"تحریم هسته‌ای\" آمریکا ! ایران')\n",
        "print_result(process_query('\"تحریم هسته‌ای\"'))"
      ]
    }
  ],
  "metadata": {
    "colab": {
      "provenance": []
    },
    "kernelspec": {
      "display_name": "Python 3",
      "name": "python3"
    },
    "language_info": {
      "name": "python"
    }
  },
  "nbformat": 4,
  "nbformat_minor": 0
}
